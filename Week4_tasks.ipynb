{
  "nbformat": 4,
  "nbformat_minor": 0,
  "metadata": {
    "colab": {
      "provenance": [],
      "collapsed_sections": [],
      "include_colab_link": true
    },
    "kernelspec": {
      "name": "python3",
      "display_name": "Python 3"
    },
    "language_info": {
      "name": "python"
    }
  },
  "cells": [
    {
      "cell_type": "markdown",
      "metadata": {
        "id": "view-in-github",
        "colab_type": "text"
      },
      "source": [
        "<a href=\"https://colab.research.google.com/github/maverick2903/Synapse_LP/blob/Week_4/Week4_tasks.ipynb\" target=\"_parent\"><img src=\"https://colab.research.google.com/assets/colab-badge.svg\" alt=\"Open In Colab\"/></a>"
      ]
    },
    {
      "cell_type": "markdown",
      "source": [
        "# **Task 4**\n",
        "\n",
        "## **DJS Synapse Learning Period**\n",
        "![image.png](data:image/png;base64,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)"
      ],
      "metadata": {
        "id": "MBQz5ZKhghSd"
      }
    },
    {
      "cell_type": "markdown",
      "source": [
        "**Unsupervised Learning**\n",
        "\n",
        "In this task, we will explore data dimensionality reduction and different  clustering methods.\n",
        "\n",
        "We will work with the **Samsung Human Activity Recognition dataset**. The data comes from the accelerometers and gyros of Samsung mobile phones, the type of activity of a person with a phone in his pocket is also known - whether he walked, stood, lay, sat or walked up or down the stairs.\n",
        "\n",
        "We imagine that the type of activity is unknown to us (unlabelled), and we will try to cluster people purely on the basis of available features."
      ],
      "metadata": {
        "id": "BrMOt2M-gmBC"
      }
    },
    {
      "cell_type": "markdown",
      "source": [
        "# **Imports and Data loading**"
      ],
      "metadata": {
        "id": "uz7JdTs3Z3Dj"
      }
    },
    {
      "cell_type": "markdown",
      "source": [
        "Import some basic modules like numpy, pandas, seaborn, tqdm_notebook & matplotlib.pyplot"
      ],
      "metadata": {
        "id": "_UZuWaejPdak"
      }
    },
    {
      "cell_type": "code",
      "source": [
        "# code here\n",
        "import pandas as pd\n",
        "import numpy as np\n",
        "import matplotlib.pyplot as plt\n",
        "import seaborn as sns\n",
        "from tqdm.notebook import trange, tqdm"
      ],
      "metadata": {
        "id": "5u6ibV4hOTZ4"
      },
      "execution_count": null,
      "outputs": []
    },
    {
      "cell_type": "markdown",
      "source": [
        "Mount your google drive"
      ],
      "metadata": {
        "id": "cFD1y3-5P5WU"
      }
    },
    {
      "cell_type": "code",
      "source": [
        "# code here\n",
        "from google.colab import drive\n",
        "drive.mount(\"/content/gdrive\")"
      ],
      "metadata": {
        "id": "9gELzGeQP9H2",
        "colab": {
          "base_uri": "https://localhost:8080/"
        },
        "outputId": "abf6b2eb-3c3e-466d-a404-f34c6cb07196"
      },
      "execution_count": null,
      "outputs": [
        {
          "output_type": "stream",
          "name": "stdout",
          "text": [
            "Mounted at /content/gdrive\n"
          ]
        }
      ]
    },
    {
      "cell_type": "markdown",
      "source": [
        "Mention the path of dataset, 4 paths for the 4 different txt files."
      ],
      "metadata": {
        "id": "b839AteLQBDr"
      }
    },
    {
      "cell_type": "code",
      "source": [
        "# Mention the path in the strings below\n",
        "samsung_train_path = \"/content/gdrive/My Drive/synapse_w4/samsung_train.txt\"\n",
        "samsung_train_labels_path = \"/content/gdrive/My Drive/synapse_w4/samsung_train_labels.txt\"\n",
        "\n",
        "samsung_test_path = \"/content/gdrive/My Drive/synapse_w4/samsung_test.txt\"\n",
        "samsung_test_labels_path = \"/content/gdrive/My Drive/synapse_w4/samsung_test_labels.txt\""
      ],
      "metadata": {
        "id": "qrTbJ3CjQHSh"
      },
      "execution_count": null,
      "outputs": []
    },
    {
      "cell_type": "markdown",
      "source": [
        "This time we will be using np.loadtxt() for reading our data. Code for the same has been given (do not modify), but we expect you to understand the working of it.\n",
        "\n",
        "Ref.: https://www.geeksforgeeks.org/numpy-loadtxt-in-python/"
      ],
      "metadata": {
        "id": "15-B6CuRQjXD"
      }
    },
    {
      "cell_type": "code",
      "source": [
        "# DO NOT MODIFY\n",
        "X_train = np.loadtxt(samsung_train_path)\n",
        "y_train = np.loadtxt(samsung_train_labels_path).astype(int)\n",
        "\n",
        "X_test = np.loadtxt(samsung_test_path)\n",
        "y_test = np.loadtxt(samsung_test_labels_path).astype(int)"
      ],
      "metadata": {
        "id": "9Zi1udDJQh8j"
      },
      "execution_count": null,
      "outputs": []
    },
    {
      "cell_type": "markdown",
      "source": [
        "Just to confirm that your data has been loaded properly, execute the below cell. You won't receive any error if everything is correct.\n",
        "\n",
        "NOTE: If you get an Assertion error, then you probably did something wrong above."
      ],
      "metadata": {
        "id": "plA5hpftRMRC"
      }
    },
    {
      "cell_type": "code",
      "source": [
        "# Checking dimensions\n",
        "assert(X_train.shape == (7352, 561) and y_train.shape == (7352,))\n",
        "assert(X_test.shape == (2947, 561) and y_test.shape == (2947,))"
      ],
      "metadata": {
        "id": "WvSJb1_aRpA-"
      },
      "execution_count": null,
      "outputs": []
    },
    {
      "cell_type": "markdown",
      "source": [
        "# **Pre-processing**"
      ],
      "metadata": {
        "id": "ADK9DkH5Zuzd"
      }
    },
    {
      "cell_type": "markdown",
      "source": [
        "For clustering, we do not need a target vector, so we'll work with the combination of training and test samples. Merge *X_train* with *X_test*, and *y_train* with *y_test*.\n",
        "\n",
        "Hint: \n",
        "1. Merge X_train and X_test into X {use [np.vstack()](https://numpy.org/doc/stable/reference/generated/numpy.vstack.html)}\n",
        "2. Merge y_train and y_test into y {use [np.hstack()](https://numpy.org/doc/stable/reference/generated/numpy.hstack.html)}"
      ],
      "metadata": {
        "id": "v_MDGeiORyQW"
      }
    },
    {
      "cell_type": "code",
      "source": [
        "# Uncomment the below lines and code\n",
        "X = np.vstack((X_train,X_test))\n",
        "y = np.hstack((y_train,y_test))"
      ],
      "metadata": {
        "id": "Va97TqkyR8x4"
      },
      "execution_count": null,
      "outputs": []
    },
    {
      "cell_type": "markdown",
      "source": [
        "Using numpy, print the unique values of the labels of the target class (i.e. \"y\").\n",
        "\n",
        "Ref.: https://www.geeksforgeeks.org/python-numpy-np-unique-method/\n"
      ],
      "metadata": {
        "id": "hMgj52ymSoVX"
      }
    },
    {
      "cell_type": "code",
      "source": [
        "# code here\n",
        "print(np.unique(y))"
      ],
      "metadata": {
        "id": "M7lVZbEDTQNJ",
        "colab": {
          "base_uri": "https://localhost:8080/"
        },
        "outputId": "257f160f-9a5c-4fc0-891e-ef040fad3090"
      },
      "execution_count": null,
      "outputs": [
        {
          "output_type": "stream",
          "name": "stdout",
          "text": [
            "[1 2 3 4 5 6]\n"
          ]
        }
      ]
    },
    {
      "cell_type": "markdown",
      "source": [
        "Store the size (or number) of unique values of the labels of the target class (i.e. \"y\") in a variable named n_classes."
      ],
      "metadata": {
        "id": "ob_G2AriTVN0"
      }
    },
    {
      "cell_type": "code",
      "source": [
        "# Uncomment the below line and code\n",
        "n_classes = len(np.unique(y))\n",
        "print(n_classes)"
      ],
      "metadata": {
        "id": "8qGy5nHoTqeM",
        "colab": {
          "base_uri": "https://localhost:8080/"
        },
        "outputId": "1e83b237-029c-4b97-87d2-8fcb5719d637"
      },
      "execution_count": null,
      "outputs": [
        {
          "output_type": "stream",
          "name": "stdout",
          "text": [
            "6\n"
          ]
        }
      ]
    },
    {
      "cell_type": "markdown",
      "source": [
        "Here the 6 labels (or classes) correspond to:\n",
        "- 1 - walking\n",
        "- 2 - going up the stairs\n",
        "- 3 - going down the stairs\n",
        "- 4 - sitting\n",
        "- 5 - standing\n",
        "- 6 - lying down\n",
        "\n",
        "So we wish to create 6 clusters where each cluster can represent one of the above activities."
      ],
      "metadata": {
        "id": "-6HZf8f4UNHO"
      }
    },
    {
      "cell_type": "markdown",
      "source": [
        "Scale the sample (i.e. X) using [`StandardScaler()`](https://www.digitalocean.com/community/tutorials/standardscaler-function-in-python)"
      ],
      "metadata": {
        "id": "9WPLZKLBUSzQ"
      }
    },
    {
      "cell_type": "code",
      "source": [
        "# import StandardScaler\n",
        "from sklearn.preprocessing import StandardScaler\n",
        "# initialize an instance of StandardScaler()\n",
        "ss_obj = StandardScaler()\n",
        "# use the above instance to fit_transform \"X\" and assign it into a new variable \"X_scaled\"\n",
        "X_scaled = ss_obj.fit_transform(X)"
      ],
      "metadata": {
        "id": "FTToQBJuUoTC"
      },
      "execution_count": null,
      "outputs": []
    },
    {
      "cell_type": "markdown",
      "source": [
        "# **Dimensionality Reduction using PCA**"
      ],
      "metadata": {
        "id": "Bz8VXWqwVCsm"
      }
    },
    {
      "cell_type": "markdown",
      "source": [
        "Ref.: https://scikit-learn.org/stable/modules/generated/sklearn.decomposition.PCA.html"
      ],
      "metadata": {
        "id": "hGbxzKQqwHAN"
      }
    },
    {
      "cell_type": "code",
      "source": [
        "# Import PCA from sklearn.decomposition\n",
        "from sklearn.decomposition import PCA"
      ],
      "metadata": {
        "id": "lOcq3tfr40pF"
      },
      "execution_count": null,
      "outputs": []
    },
    {
      "cell_type": "markdown",
      "source": [
        "Reduce the number of dimensions using PCA, \n",
        "\n",
        "Hints:\n",
        "1. Initialise instance of PCA and set *n_components* to 0.9 and *random_state* to 17.\n",
        "2. Fit X_scaled over the PCA instance created\n",
        "3. Transform X_scaled over the fitted PCA instance and store it in a variable named X_pca.\n",
        "\n",
        "Theory: https://towardsdatascience.com/dimensionality-reduction-explained-5ae45ae3058e\n",
        "\n",
        "Theory + Implementation.: https://youtu.be/OFyyWcw2cyM (Jump to timestamp - 13:50 for PCA implementaion)"
      ],
      "metadata": {
        "id": "h5z2fN3caBUP"
      }
    },
    {
      "cell_type": "code",
      "source": [
        "# code here\n",
        "pca = PCA(n_components=0.9,random_state=17)\n",
        "pca.fit(X_scaled)\n",
        "X_pca = pca.transform(X_scaled)"
      ],
      "metadata": {
        "id": "-d0V1DFKV8-G"
      },
      "execution_count": null,
      "outputs": []
    },
    {
      "cell_type": "markdown",
      "source": [
        "Let's check the shape of X_pca."
      ],
      "metadata": {
        "id": "BX98d0adV8U8"
      }
    },
    {
      "cell_type": "code",
      "source": [
        "# code here\n",
        "print(X_pca.shape)\n",
        "# Should print (10299, 65) if everything is correct."
      ],
      "metadata": {
        "id": "00cwC1hxXMZy",
        "colab": {
          "base_uri": "https://localhost:8080/"
        },
        "outputId": "e2dac80c-40a0-4500-a24e-4ed9d5d038cc"
      },
      "execution_count": null,
      "outputs": [
        {
          "output_type": "stream",
          "name": "stdout",
          "text": [
            "(10299, 65)\n"
          ]
        }
      ]
    },
    {
      "cell_type": "markdown",
      "source": [
        "Shape of X was (10299, 561) i.e 561 dimensions\n",
        "\n",
        "Shape of X_pca is (10299, 65) i.e. 65 dimenisons\n",
        "\n",
        "Hence we have successfully reduced dimensions using PCA."
      ],
      "metadata": {
        "id": "6MBugssm6HkA"
      }
    },
    {
      "cell_type": "markdown",
      "source": [
        "# **K-Means (Partition based clustering)**"
      ],
      "metadata": {
        "id": "toI3kZ3ZaJOy"
      }
    },
    {
      "cell_type": "markdown",
      "source": [
        "Run the data clustering using the `KMeans` method, training the model on data with a reduced PCA dimension (i.e. X_pca). In this case, we will give a clue to look for exactly 6 clusters, but in general case we will not know how many clusters we should be searching.\n",
        "\n",
        "Parameters for KMeans:\n",
        "\n",
        "- **n_clusters** = n_classes (number of unique labels of the target class (i.e. 6))\n",
        "- **n_init** = 100\n",
        "- **random_state** = 17 (for the reproducibility of the result)\n",
        "\n",
        "Other parameters should have default values."
      ],
      "metadata": {
        "id": "wpGrrsuraNCU"
      }
    },
    {
      "cell_type": "code",
      "source": [
        "from sklearn.cluster import KMeans"
      ],
      "metadata": {
        "id": "3Axm0thg6klA"
      },
      "execution_count": null,
      "outputs": []
    },
    {
      "cell_type": "code",
      "source": [
        "# initialise KMeans instance using above given parameters\n",
        "kmeans = KMeans(n_clusters=n_classes,n_init=100,random_state=17)\n",
        "# code here"
      ],
      "metadata": {
        "id": "BQgkKo7PaisB"
      },
      "execution_count": null,
      "outputs": []
    },
    {
      "cell_type": "code",
      "source": [
        "# fit the KMeans instance over X_pca\n",
        "kmeans.fit(X_pca)\n",
        "# code here"
      ],
      "metadata": {
        "id": "Pc_OBUqRavdv",
        "colab": {
          "base_uri": "https://localhost:8080/"
        },
        "outputId": "9809d381-1a41-46c0-f816-85363d87a1eb"
      },
      "execution_count": null,
      "outputs": [
        {
          "output_type": "execute_result",
          "data": {
            "text/plain": [
              "KMeans(n_clusters=6, n_init=100, random_state=17)"
            ]
          },
          "metadata": {},
          "execution_count": 27
        }
      ]
    },
    {
      "cell_type": "code",
      "source": [
        "# store the cluster labels into variable named cluster_labels\n",
        "# Hint: .labels_ \n",
        "cluster_labels = kmeans.labels_\n",
        "# code here"
      ],
      "metadata": {
        "id": "KIiUaneca1Q6"
      },
      "execution_count": null,
      "outputs": []
    },
    {
      "cell_type": "markdown",
      "source": [
        "Major use of PCA is for visualization. So, let's visualize the 6 clusters using a scatter plot"
      ],
      "metadata": {
        "id": "XmPqoyRdbbDh"
      }
    },
    {
      "cell_type": "code",
      "source": [
        "# DO NOT MODIFY. Just uncomment & execute below code line\n",
        "plt.scatter(X_pca[:, 0], X_pca[:, 1], c=cluster_labels, cmap='viridis');"
      ],
      "metadata": {
        "id": "pLMuE0KjbejP",
        "colab": {
          "base_uri": "https://localhost:8080/",
          "height": 265
        },
        "outputId": "4f9b7a7f-4d0c-454c-b3e4-47824e1fc56a"
      },
      "execution_count": null,
      "outputs": [
        {
          "output_type": "display_data",
          "data": {
            "text/plain": [
              "<Figure size 432x288 with 1 Axes>"
            ],
            "image/png": "[encoded data removed]"
          },
          "metadata": {
            "needs_background": "light"
          }
        }
      ]
    },
    {
      "cell_type": "markdown",
      "source": [
        "Now look at the correspondence between the cluster marks (i.e. cluster_labels) and the original class labels (i.e. y) and what kinds of activities the KMeans algorithm is confused at.\n",
        "\n",
        "Ref.: [Pandas Crosstab](https://pbpython.com/pandas-crosstab.html)"
      ],
      "metadata": {
        "id": "NwmqRUaxb8nC"
      }
    },
    {
      "cell_type": "code",
      "source": [
        "# Hint: Use pandas.crosstab() with margins=True\n",
        "# code here\n",
        "pd.crosstab(cluster_labels,y,margins=True,margins_name='Total')"
      ],
      "metadata": {
        "id": "8nP1LMHCcoQG",
        "colab": {
          "base_uri": "https://localhost:8080/",
          "height": 300
        },
        "outputId": "f3b557b0-ef39-41dd-f818-2e41b685d24e"
      },
      "execution_count": null,
      "outputs": [
        {
          "output_type": "execute_result",
          "data": {
            "text/plain": [
              "col_0     1     2     3     4     5     6  Total\n",
              "row_0                                           \n",
              "0       903  1241   320     1     0     5   2470\n",
              "1         0     0     0  1235  1344    52   2631\n",
              "2         0     0     0    91     0  1558   1649\n",
              "3        78     5   196     0     0     0    279\n",
              "4       741   296   890     0     0     0   1927\n",
              "5         0     2     0   450   562   329   1343\n",
              "Total  1722  1544  1406  1777  1906  1944  10299"
            ],
            "text/html": [
              "\n",
              "  <div id=\"df-b93f66d0-2c1c-495c-83ea-0a52e30927dd\">\n",
              "    <div class=\"colab-df-container\">\n",
              "      <div>\n",
              "<style scoped>\n",
              "    .dataframe tbody tr th:only-of-type {\n",
              "        vertical-align: middle;\n",
              "    }\n",
              "\n",
              "    .dataframe tbody tr th {\n",
              "        vertical-align: top;\n",
              "    }\n",
              "\n",
              "    .dataframe thead th {\n",
              "        text-align: right;\n",
              "    }\n",
              "</style>\n",
              "<table border=\"1\" class=\"dataframe\">\n",
              "  <thead>\n",
              "    <tr style=\"text-align: right;\">\n",
              "      <th>col_0</th>\n",
              "      <th>1</th>\n",
              "      <th>2</th>\n",
              "      <th>3</th>\n",
              "      <th>4</th>\n",
              "      <th>5</th>\n",
              "      <th>6</th>\n",
              "      <th>Total</th>\n",
              "    </tr>\n",
              "    <tr>\n",
              "      <th>row_0</th>\n",
              "      <th></th>\n",
              "      <th></th>\n",
              "      <th></th>\n",
              "      <th></th>\n",
              "      <th></th>\n",
              "      <th></th>\n",
              "      <th></th>\n",
              "    </tr>\n",
              "  </thead>\n",
              "  <tbody>\n",
              "    <tr>\n",
              "      <th>0</th>\n",
              "      <td>903</td>\n",
              "      <td>1241</td>\n",
              "      <td>320</td>\n",
              "      <td>1</td>\n",
              "      <td>0</td>\n",
              "      <td>5</td>\n",
              "      <td>2470</td>\n",
              "    </tr>\n",
              "    <tr>\n",
              "      <th>1</th>\n",
              "      <td>0</td>\n",
              "      <td>0</td>\n",
              "      <td>0</td>\n",
              "      <td>1235</td>\n",
              "      <td>1344</td>\n",
              "      <td>52</td>\n",
              "      <td>2631</td>\n",
              "    </tr>\n",
              "    <tr>\n",
              "      <th>2</th>\n",
              "      <td>0</td>\n",
              "      <td>0</td>\n",
              "      <td>0</td>\n",
              "      <td>91</td>\n",
              "      <td>0</td>\n",
              "      <td>1558</td>\n",
              "      <td>1649</td>\n",
              "    </tr>\n",
              "    <tr>\n",
              "      <th>3</th>\n",
              "      <td>78</td>\n",
              "      <td>5</td>\n",
              "      <td>196</td>\n",
              "      <td>0</td>\n",
              "      <td>0</td>\n",
              "      <td>0</td>\n",
              "      <td>279</td>\n",
              "    </tr>\n",
              "    <tr>\n",
              "      <th>4</th>\n",
              "      <td>741</td>\n",
              "      <td>296</td>\n",
              "      <td>890</td>\n",
              "      <td>0</td>\n",
              "      <td>0</td>\n",
              "      <td>0</td>\n",
              "      <td>1927</td>\n",
              "    </tr>\n",
              "    <tr>\n",
              "      <th>5</th>\n",
              "      <td>0</td>\n",
              "      <td>2</td>\n",
              "      <td>0</td>\n",
              "      <td>450</td>\n",
              "      <td>562</td>\n",
              "      <td>329</td>\n",
              "      <td>1343</td>\n",
              "    </tr>\n",
              "    <tr>\n",
              "      <th>Total</th>\n",
              "      <td>1722</td>\n",
              "      <td>1544</td>\n",
              "      <td>1406</td>\n",
              "      <td>1777</td>\n",
              "      <td>1906</td>\n",
              "      <td>1944</td>\n",
              "      <td>10299</td>\n",
              "    </tr>\n",
              "  </tbody>\n",
              "</table>\n",
              "</div>\n",
              "      <button class=\"colab-df-convert\" onclick=\"convertToInteractive('df-b93f66d0-2c1c-495c-83ea-0a52e30927dd')\"\n",
              "              title=\"Convert this dataframe to an interactive table.\"\n",
              "              style=\"display:none;\">\n",
              "        \n",
              "  <svg xmlns=\"http://www.w3.org/2000/svg\" height=\"24px\"viewBox=\"0 0 24 24\"\n",
              "       width=\"24px\">\n",
              "    <path d=\"M0 0h24v24H0V0z\" fill=\"none\"/>\n",
              "    <path d=\"M18.56 5.44l.94 2.06.94-2.06 2.06-.94-2.06-.94-.94-2.06-.94 2.06-2.06.94zm-11 1L8.5 8.5l.94-2.06 2.06-.94-2.06-.94L8.5 2.5l-.94 2.06-2.06.94zm10 10l.94 2.06.94-2.06 2.06-.94-2.06-.94-.94-2.06-.94 2.06-2.06.94z\"/><path d=\"M17.41 7.96l-1.37-1.37c-.4-.4-.92-.59-1.43-.59-.52 0-1.04.2-1.43.59L10.3 9.45l-7.72 7.72c-.78.78-.78 2.05 0 2.83L4 21.41c.39.39.9.59 1.41.59.51 0 1.02-.2 1.41-.59l7.78-7.78 2.81-2.81c.8-.78.8-2.07 0-2.86zM5.41 20L4 18.59l7.72-7.72 1.47 1.35L5.41 20z\"/>\n",
              "  </svg>\n",
              "      </button>\n",
              "      \n",
              "  <style>\n",
              "    .colab-df-container {\n",
              "      display:flex;\n",
              "      flex-wrap:wrap;\n",
              "      gap: 12px;\n",
              "    }\n",
              "\n",
              "    .colab-df-convert {\n",
              "      background-color: #E8F0FE;\n",
              "      border: none;\n",
              "      border-radius: 50%;\n",
              "      cursor: pointer;\n",
              "      display: none;\n",
              "      fill: #1967D2;\n",
              "      height: 32px;\n",
              "      padding: 0 0 0 0;\n",
              "      width: 32px;\n",
              "    }\n",
              "\n",
              "    .colab-df-convert:hover {\n",
              "      background-color: #E2EBFA;\n",
              "      box-shadow: 0px 1px 2px rgba(60, 64, 67, 0.3), 0px 1px 3px 1px rgba(60, 64, 67, 0.15);\n",
              "      fill: #174EA6;\n",
              "    }\n",
              "\n",
              "    [theme=dark] .colab-df-convert {\n",
              "      background-color: #3B4455;\n",
              "      fill: #D2E3FC;\n",
              "    }\n",
              "\n",
              "    [theme=dark] .colab-df-convert:hover {\n",
              "      background-color: #434B5C;\n",
              "      box-shadow: 0px 1px 3px 1px rgba(0, 0, 0, 0.15);\n",
              "      filter: drop-shadow(0px 1px 2px rgba(0, 0, 0, 0.3));\n",
              "      fill: #FFFFFF;\n",
              "    }\n",
              "  </style>\n",
              "\n",
              "      <script>\n",
              "        const buttonEl =\n",
              "          document.querySelector('#df-b93f66d0-2c1c-495c-83ea-0a52e30927dd button.colab-df-convert');\n",
              "        buttonEl.style.display =\n",
              "          google.colab.kernel.accessAllowed ? 'block' : 'none';\n",
              "\n",
              "        async function convertToInteractive(key) {\n",
              "          const element = document.querySelector('#df-b93f66d0-2c1c-495c-83ea-0a52e30927dd');\n",
              "          const dataTable =\n",
              "            await google.colab.kernel.invokeFunction('convertToInteractive',\n",
              "                                                     [key], {});\n",
              "          if (!dataTable) return;\n",
              "\n",
              "          const docLinkHtml = 'Like what you see? Visit the ' +\n",
              "            '<a target=\"_blank\" href=https://colab.research.google.com/notebooks/data_table.ipynb>data table notebook</a>'\n",
              "            + ' to learn more about interactive tables.';\n",
              "          element.innerHTML = '';\n",
              "          dataTable['output_type'] = 'display_data';\n",
              "          await google.colab.output.renderOutput(dataTable, element);\n",
              "          const docLink = document.createElement('div');\n",
              "          docLink.innerHTML = docLinkHtml;\n",
              "          element.appendChild(docLink);\n",
              "        }\n",
              "      </script>\n",
              "    </div>\n",
              "  </div>\n",
              "  "
            ]
          },
          "metadata": {},
          "execution_count": 34
        }
      ]
    },
    {
      "cell_type": "markdown",
      "source": [
        "It can be seen that kMeans does not distinguish activities very well. \n",
        "\n",
        "For example: Suppose there are 1722 walking activities. But those 1722 get splitted into multiple clusters rather than a single cluster of walking. Similarly for the rest of the activities. The clusters created are not disjoint. "
      ],
      "metadata": {
        "id": "UIiyewehdXMh"
      }
    },
    {
      "cell_type": "markdown",
      "source": [
        "Similar to classification and regression metrics, we have some [clustering metrics](https://scikit-learn.org/stable/modules/classes.html#clustering-metrics) to evaluate performance.\n",
        "\n",
        "We wll explore one of them: [adjusted_rand_index (ARI)](https://scikit-learn.org/stable/modules/generated/sklearn.metrics.adjusted_rand_score.html)"
      ],
      "metadata": {
        "id": "iVrhTKiWh2B3"
      }
    },
    {
      "cell_type": "code",
      "source": [
        "# import ARI\n",
        "from sklearn.metrics.cluster import adjusted_rand_score\n",
        "# code to compute ARI for our KMeans clusters\n",
        "adjusted_rand_score(y,cluster_labels)"
      ],
      "metadata": {
        "id": "Iu_3hI3Gh02I",
        "colab": {
          "base_uri": "https://localhost:8080/"
        },
        "outputId": "f9b1bd3b-a34d-4fcb-c2c6-f8513d32000a"
      },
      "execution_count": null,
      "outputs": [
        {
          "output_type": "execute_result",
          "data": {
            "text/plain": [
              "0.4198070012602345"
            ]
          },
          "metadata": {},
          "execution_count": 35
        }
      ]
    },
    {
      "cell_type": "markdown",
      "source": [
        "# **Optional Task:**\n"
      ],
      "metadata": {
        "id": "k1IFiDQYefEE"
      }
    },
    {
      "cell_type": "markdown",
      "source": [
        "**Only the below 4 cells are optional. Agglomerative Clustering is not optional.**"
      ],
      "metadata": {
        "id": "2nolF9dIpRQA"
      }
    },
    {
      "cell_type": "markdown",
      "source": [
        "Find optimal value of n_clusters for our KMeans model using the elbow method."
      ],
      "metadata": {
        "id": "5K5rFVF2plMq"
      }
    },
    {
      "cell_type": "markdown",
      "source": [
        "So, let's use the elbow method to select the optimal number of clusters. Parameters of the algorithm and the data we use are the same as before, we change only `n_clusters`.\n",
        "\n",
        "- Loop n_clusters from 1 to 7 and fit a KMeans model over X_pca each time.\n",
        "- Calculate inertia for each KMeans model and append it to a list. (Hint: inertia_list.append(np.sqrt(model_name.inertia_)) ) \n",
        "- Plot a line graph of inertia_list vs n_clusters value\n",
        "- The optimal n_clusters value is the point at which the graph changes it steepness drastically.\n",
        "- If everything is correct, you will find optimal n_clusters value to be 2 using elbow method."
      ],
      "metadata": {
        "id": "FBdMg8a7eJh8"
      }
    },
    {
      "cell_type": "code",
      "source": [
        "# code here\n",
        "\n",
        "inertia_list = []\n",
        "n_clusters = []\n",
        "for n in range(1,7):\n",
        "  kmeans = KMeans(n_clusters = n,n_init=100,random_state=17)\n",
        "  kmeans.fit(X_pca)\n",
        "  inertia_list.append(np.sqrt(kmeans.inertia_))\n",
        "  n_clusters.append(n)\n",
        "\n",
        "plt.plot(n_clusters,inertia_list,marker=\".\")\n",
        "plt.show()"
      ],
      "metadata": {
        "id": "g5ov0ETtpxaP",
        "colab": {
          "base_uri": "https://localhost:8080/",
          "height": 265
        },
        "outputId": "ba54d02f-fafc-4a1a-e25f-f85554d44329"
      },
      "execution_count": null,
      "outputs": [
        {
          "output_type": "display_data",
          "data": {
            "text/plain": [
              "<Figure size 432x288 with 1 Axes>"
            ],
            "image/png": "[encoded data removed]"
          },
          "metadata": {
            "needs_background": "light"
          }
        }
      ]
    },
    {
      "cell_type": "markdown",
      "source": [
        "So we see that KMeans clustering does not work well for our dataset. So let's try Agglomerative Clustering."
      ],
      "metadata": {
        "id": "_W6UZ2TigrfP"
      }
    },
    {
      "cell_type": "markdown",
      "source": [
        "# **Agglomerative (Heirarichal clustering)**"
      ],
      "metadata": {
        "id": "7Wco2intlecT"
      }
    },
    {
      "cell_type": "markdown",
      "source": [
        "Ref.: https://scikit-learn.org/stable/modules/generated/sklearn.cluster.AgglomerativeClustering.html"
      ],
      "metadata": {
        "id": "OwygcjyVu7B7"
      }
    },
    {
      "cell_type": "code",
      "source": [
        "# first import AgglomerativeClustering\n",
        "from sklearn.cluster import AgglomerativeClustering"
      ],
      "metadata": {
        "id": "D7l3SXDRCNOl"
      },
      "execution_count": null,
      "outputs": []
    },
    {
      "cell_type": "markdown",
      "source": [
        " Create an instance of AgglomerativeClustering() and fit it over X_pca.\n",
        " \n",
        " NOTE: specify n_clusters equal to n_classes\n"
      ],
      "metadata": {
        "id": "X8iLDwAbmL-E"
      }
    },
    {
      "cell_type": "code",
      "source": [
        "# code here\n",
        "ag = AgglomerativeClustering(n_clusters=n_classes).fit(X_pca)"
      ],
      "metadata": {
        "id": "J1ltnpvXl4MI"
      },
      "execution_count": null,
      "outputs": []
    },
    {
      "cell_type": "markdown",
      "source": [
        "Visualize the clusters"
      ],
      "metadata": {
        "id": "2umHCxW2CYty"
      }
    },
    {
      "cell_type": "code",
      "source": [
        "# DO NOT MODIFY. Just uncomment and execute below code\n",
        "plt.scatter(X_pca[:, 0], X_pca[:, 1], c=ag.labels_,cmap='viridis');"
      ],
      "metadata": {
        "id": "fTW68vLzB-NX",
        "colab": {
          "base_uri": "https://localhost:8080/",
          "height": 265
        },
        "outputId": "67436511-2fee-406e-9e82-06f36b3a24f3"
      },
      "execution_count": null,
      "outputs": [
        {
          "output_type": "display_data",
          "data": {
            "text/plain": [
              "<Figure size 432x288 with 1 Axes>"
            ],
            "image/png": "[encoded data removed]"
          },
          "metadata": {
            "needs_background": "light"
          }
        }
      ]
    },
    {
      "cell_type": "markdown",
      "source": [
        "Now look at the correspondence between the cluster marks and the original class labels and what kinds of activities the Agglomerative algorithm is confused at."
      ],
      "metadata": {
        "id": "DDAmEvOyCa-X"
      }
    },
    {
      "cell_type": "code",
      "source": [
        "# Hint: Use pandas.crosstab() with margins=True\n",
        "# code here\n",
        "pd.crosstab(ag.labels_,y,margins=True,margins_name='Total')"
      ],
      "metadata": {
        "id": "nJynCcwCB-96",
        "colab": {
          "base_uri": "https://localhost:8080/",
          "height": 300
        },
        "outputId": "e361aa90-2d51-4890-93e0-c2af5db21218"
      },
      "execution_count": null,
      "outputs": [
        {
          "output_type": "execute_result",
          "data": {
            "text/plain": [
              "col_0     1     2     3     4     5     6  Total\n",
              "row_0                                           \n",
              "0       800   337  1144     0     0     0   2281\n",
              "1         0     0     0  1559  1832    74   3465\n",
              "2       896  1207   138     0     0     0   2241\n",
              "3        26     0   124     0     0     0    150\n",
              "4         0     0     0    71     0  1604   1675\n",
              "5         0     0     0   147    74   266    487\n",
              "Total  1722  1544  1406  1777  1906  1944  10299"
            ],
            "text/html": [
              "\n",
              "  <div id=\"df-4df4dc70-a115-432b-9da8-f368af687880\">\n",
              "    <div class=\"colab-df-container\">\n",
              "      <div>\n",
              "<style scoped>\n",
              "    .dataframe tbody tr th:only-of-type {\n",
              "        vertical-align: middle;\n",
              "    }\n",
              "\n",
              "    .dataframe tbody tr th {\n",
              "        vertical-align: top;\n",
              "    }\n",
              "\n",
              "    .dataframe thead th {\n",
              "        text-align: right;\n",
              "    }\n",
              "</style>\n",
              "<table border=\"1\" class=\"dataframe\">\n",
              "  <thead>\n",
              "    <tr style=\"text-align: right;\">\n",
              "      <th>col_0</th>\n",
              "      <th>1</th>\n",
              "      <th>2</th>\n",
              "      <th>3</th>\n",
              "      <th>4</th>\n",
              "      <th>5</th>\n",
              "      <th>6</th>\n",
              "      <th>Total</th>\n",
              "    </tr>\n",
              "    <tr>\n",
              "      <th>row_0</th>\n",
              "      <th></th>\n",
              "      <th></th>\n",
              "      <th></th>\n",
              "      <th></th>\n",
              "      <th></th>\n",
              "      <th></th>\n",
              "      <th></th>\n",
              "    </tr>\n",
              "  </thead>\n",
              "  <tbody>\n",
              "    <tr>\n",
              "      <th>0</th>\n",
              "      <td>800</td>\n",
              "      <td>337</td>\n",
              "      <td>1144</td>\n",
              "      <td>0</td>\n",
              "      <td>0</td>\n",
              "      <td>0</td>\n",
              "      <td>2281</td>\n",
              "    </tr>\n",
              "    <tr>\n",
              "      <th>1</th>\n",
              "      <td>0</td>\n",
              "      <td>0</td>\n",
              "      <td>0</td>\n",
              "      <td>1559</td>\n",
              "      <td>1832</td>\n",
              "      <td>74</td>\n",
              "      <td>3465</td>\n",
              "    </tr>\n",
              "    <tr>\n",
              "      <th>2</th>\n",
              "      <td>896</td>\n",
              "      <td>1207</td>\n",
              "      <td>138</td>\n",
              "      <td>0</td>\n",
              "      <td>0</td>\n",
              "      <td>0</td>\n",
              "      <td>2241</td>\n",
              "    </tr>\n",
              "    <tr>\n",
              "      <th>3</th>\n",
              "      <td>26</td>\n",
              "      <td>0</td>\n",
              "      <td>124</td>\n",
              "      <td>0</td>\n",
              "      <td>0</td>\n",
              "      <td>0</td>\n",
              "      <td>150</td>\n",
              "    </tr>\n",
              "    <tr>\n",
              "      <th>4</th>\n",
              "      <td>0</td>\n",
              "      <td>0</td>\n",
              "      <td>0</td>\n",
              "      <td>71</td>\n",
              "      <td>0</td>\n",
              "      <td>1604</td>\n",
              "      <td>1675</td>\n",
              "    </tr>\n",
              "    <tr>\n",
              "      <th>5</th>\n",
              "      <td>0</td>\n",
              "      <td>0</td>\n",
              "      <td>0</td>\n",
              "      <td>147</td>\n",
              "      <td>74</td>\n",
              "      <td>266</td>\n",
              "      <td>487</td>\n",
              "    </tr>\n",
              "    <tr>\n",
              "      <th>Total</th>\n",
              "      <td>1722</td>\n",
              "      <td>1544</td>\n",
              "      <td>1406</td>\n",
              "      <td>1777</td>\n",
              "      <td>1906</td>\n",
              "      <td>1944</td>\n",
              "      <td>10299</td>\n",
              "    </tr>\n",
              "  </tbody>\n",
              "</table>\n",
              "</div>\n",
              "      <button class=\"colab-df-convert\" onclick=\"convertToInteractive('df-4df4dc70-a115-432b-9da8-f368af687880')\"\n",
              "              title=\"Convert this dataframe to an interactive table.\"\n",
              "              style=\"display:none;\">\n",
              "        \n",
              "  <svg xmlns=\"http://www.w3.org/2000/svg\" height=\"24px\"viewBox=\"0 0 24 24\"\n",
              "       width=\"24px\">\n",
              "    <path d=\"M0 0h24v24H0V0z\" fill=\"none\"/>\n",
              "    <path d=\"M18.56 5.44l.94 2.06.94-2.06 2.06-.94-2.06-.94-.94-2.06-.94 2.06-2.06.94zm-11 1L8.5 8.5l.94-2.06 2.06-.94-2.06-.94L8.5 2.5l-.94 2.06-2.06.94zm10 10l.94 2.06.94-2.06 2.06-.94-2.06-.94-.94-2.06-.94 2.06-2.06.94z\"/><path d=\"M17.41 7.96l-1.37-1.37c-.4-.4-.92-.59-1.43-.59-.52 0-1.04.2-1.43.59L10.3 9.45l-7.72 7.72c-.78.78-.78 2.05 0 2.83L4 21.41c.39.39.9.59 1.41.59.51 0 1.02-.2 1.41-.59l7.78-7.78 2.81-2.81c.8-.78.8-2.07 0-2.86zM5.41 20L4 18.59l7.72-7.72 1.47 1.35L5.41 20z\"/>\n",
              "  </svg>\n",
              "      </button>\n",
              "      \n",
              "  <style>\n",
              "    .colab-df-container {\n",
              "      display:flex;\n",
              "      flex-wrap:wrap;\n",
              "      gap: 12px;\n",
              "    }\n",
              "\n",
              "    .colab-df-convert {\n",
              "      background-color: #E8F0FE;\n",
              "      border: none;\n",
              "      border-radius: 50%;\n",
              "      cursor: pointer;\n",
              "      display: none;\n",
              "      fill: #1967D2;\n",
              "      height: 32px;\n",
              "      padding: 0 0 0 0;\n",
              "      width: 32px;\n",
              "    }\n",
              "\n",
              "    .colab-df-convert:hover {\n",
              "      background-color: #E2EBFA;\n",
              "      box-shadow: 0px 1px 2px rgba(60, 64, 67, 0.3), 0px 1px 3px 1px rgba(60, 64, 67, 0.15);\n",
              "      fill: #174EA6;\n",
              "    }\n",
              "\n",
              "    [theme=dark] .colab-df-convert {\n",
              "      background-color: #3B4455;\n",
              "      fill: #D2E3FC;\n",
              "    }\n",
              "\n",
              "    [theme=dark] .colab-df-convert:hover {\n",
              "      background-color: #434B5C;\n",
              "      box-shadow: 0px 1px 3px 1px rgba(0, 0, 0, 0.15);\n",
              "      filter: drop-shadow(0px 1px 2px rgba(0, 0, 0, 0.3));\n",
              "      fill: #FFFFFF;\n",
              "    }\n",
              "  </style>\n",
              "\n",
              "      <script>\n",
              "        const buttonEl =\n",
              "          document.querySelector('#df-4df4dc70-a115-432b-9da8-f368af687880 button.colab-df-convert');\n",
              "        buttonEl.style.display =\n",
              "          google.colab.kernel.accessAllowed ? 'block' : 'none';\n",
              "\n",
              "        async function convertToInteractive(key) {\n",
              "          const element = document.querySelector('#df-4df4dc70-a115-432b-9da8-f368af687880');\n",
              "          const dataTable =\n",
              "            await google.colab.kernel.invokeFunction('convertToInteractive',\n",
              "                                                     [key], {});\n",
              "          if (!dataTable) return;\n",
              "\n",
              "          const docLinkHtml = 'Like what you see? Visit the ' +\n",
              "            '<a target=\"_blank\" href=https://colab.research.google.com/notebooks/data_table.ipynb>data table notebook</a>'\n",
              "            + ' to learn more about interactive tables.';\n",
              "          element.innerHTML = '';\n",
              "          dataTable['output_type'] = 'display_data';\n",
              "          await google.colab.output.renderOutput(dataTable, element);\n",
              "          const docLink = document.createElement('div');\n",
              "          docLink.innerHTML = docLinkHtml;\n",
              "          element.appendChild(docLink);\n",
              "        }\n",
              "      </script>\n",
              "    </div>\n",
              "  </div>\n",
              "  "
            ]
          },
          "metadata": {},
          "execution_count": 27
        }
      ]
    },
    {
      "cell_type": "markdown",
      "source": [
        "Similar to KMeans, calculate adjusted_rand_index (ARI) for Agglomerative Clustering"
      ],
      "metadata": {
        "id": "P00Ypj7Gn-MV"
      }
    },
    {
      "cell_type": "code",
      "source": [
        "# code here\n",
        "from sklearn.metrics.cluster import adjusted_rand_score\n",
        "adjusted_rand_score(y,ag.labels_)"
      ],
      "metadata": {
        "id": "P4-FYp4sn93d",
        "colab": {
          "base_uri": "https://localhost:8080/"
        },
        "outputId": "e6fe6337-ae02-4549-8c85-68fa52b6fe65"
      },
      "execution_count": null,
      "outputs": [
        {
          "output_type": "execute_result",
          "data": {
            "text/plain": [
              "0.49362763373004886"
            ]
          },
          "metadata": {},
          "execution_count": 28
        }
      ]
    },
    {
      "cell_type": "markdown",
      "source": [
        "Play with other hyperparameters for Agglomerative clustering like linkage, affinity, etc. Try to acheive maximum ARI.\n",
        "\n",
        "Method: Tune the hyperparameters and select the hyperparameter set where ARI is maximum."
      ],
      "metadata": {
        "id": "GWTptPlnn_TG"
      }
    },
    {
      "cell_type": "code",
      "source": [
        "from sklearn.metrics.cluster import adjusted_rand_score\n",
        "affinity = [ \"euclidean\", \"l1\",\"l2\", \"manhattan\", \"cosine\"]\n",
        "linkage = [\"ward\", \"complete\", \"average\", \"single\"]\n",
        "ari_list = []\n",
        "\n",
        "for i in affinity:\n",
        "  for j in linkage:\n",
        "    if (j != \"ward\"):\n",
        "      ag = AgglomerativeClustering(n_clusters=n_classes,affinity=i,linkage=j)\n",
        "    else:\n",
        "      ag = AgglomerativeClustering(n_clusters=n_classes)\n",
        "    ag.fit(X_pca)\n",
        "    ari_list.append(adjusted_rand_score(y,ag.labels_))\n",
        "\n",
        "print(max(ari_list))\n",
        "\n"
      ],
      "metadata": {
        "id": "y3D7k4uUoTh0",
        "colab": {
          "base_uri": "https://localhost:8080/"
        },
        "outputId": "26d950e3-569f-4e43-c93f-9172dd7d2a98"
      },
      "execution_count": null,
      "outputs": [
        {
          "output_type": "stream",
          "name": "stdout",
          "text": [
            "0.49362763373004886\n"
          ]
        }
      ]
    },
    {
      "cell_type": "markdown",
      "source": [
        "**Conclusion**\n",
        "\n",
        "Compare ARI values of KMeans and Agglomerative Clustering. Mention below which one is better among the two. Also, specify reasons to support your claim"
      ],
      "metadata": {
        "id": "x4G_PRXwqP7I"
      }
    },
    {
      "cell_type": "markdown",
      "source": [
        "ARI value of Agglomerative Clustering is better than that of KMeans. The reasons for this are:\n",
        "\n",
        "\n",
        "*   Agglomerative clustering does not require you to specify the number of clusters beforehand which is a limitation of KMeans.\n",
        "*   Centroid positions in KMeans can be different for different iteartions leading to varying results, whereas Agglomerative Clustering generates the same clusters.\n",
        "\n"
      ],
      "metadata": {
        "id": "4jhaI8bX8Q2Z"
      }
    },
    {
      "cell_type": "markdown",
      "source": [
        "# **Bonus: To be done only if you have completed the above tasks.**"
      ],
      "metadata": {
        "id": "ELzen5eh8s23"
      }
    },
    {
      "cell_type": "markdown",
      "source": [
        "You can research and create a short blog on the topic of **DB-SCAN Clustering Algortihm**. The best research will be edited and featured on the Synapse Instagram page. Happy coding! :)"
      ],
      "metadata": {
        "id": "xmUVEvjj822I"
      }
    },
    {
      "cell_type": "markdown",
      "source": [
        "Clustering is a way to group a set of data points in a way that similar data points are grouped together. Therefore, clustering algorithms look for similarities or dissimilarities among data points. Clustering is an unsupervised learning method so there is no label associated with data points.\n",
        "\n",
        "There are different approaches and algorithms to perform clustering tasks which can be divided into three sub-categories:\n",
        "\n",
        "*   Partition-based clustering: E.g. k-means, k-median\n",
        "*   Hierarchical clustering: E.g. Agglomerative, Divisive\n",
        "*   Density-based clustering: E.g. DBSCAN\n",
        "\n",
        "#DBSCAN algorithm\n",
        "\n",
        "DBSCAN stands for density-based spatial clustering of applications with noise.\n",
        "There are two key parameters of DBSCAN:\n",
        "\n",
        "*  **eps**: The distance that specifies the neighborhoods. Two points are considered to be neighbors if the distance between them are less than or equal to eps.\n",
        "\n",
        "*  **minPts**: Minimum number of data points to define a cluster.\n",
        "\n",
        "Based on these two parameters, points are classified as core point, border point, or outlier:\n",
        "\n",
        "*  **Core point**: A point is a core point if there are at least minPts number of points (including the point itself) in its surrounding area with radius eps.\n",
        "* **Border point**: A point is a border point if it is reachable from a core point and there are less than minPts number of points within its surrounding area.\n",
        "*  **Outlier**: A point is an outlier if it is not a core point and not reachable from any core points.\n",
        "\n",
        "\n",
        "![image.png](data:image/png;base64,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)\n"
      ],
      "metadata": {
        "id": "Hmox3BY02epn"
      }
    },
    {
      "cell_type": "markdown",
      "source": [
        "# **End of Task**\n",
        "\n",
        "> ©DJS Synapse 2022 - 2023"
      ],
      "metadata": {
        "id": "YXcu6k19qWK5"
      }
    }
  ]
}